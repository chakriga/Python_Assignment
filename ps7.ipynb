{
  "nbformat": 4,
  "nbformat_minor": 0,
  "metadata": {
    "colab": {
      "provenance": [],
      "authorship_tag": "ABX9TyOmDvqjZ2Z4NqTyqEIjMkht",
      "include_colab_link": true
    },
    "kernelspec": {
      "name": "python3",
      "display_name": "Python 3"
    },
    "language_info": {
      "name": "python"
    }
  },
  "cells": [
    {
      "cell_type": "markdown",
      "metadata": {
        "id": "view-in-github",
        "colab_type": "text"
      },
      "source": [
        "<a href=\"https://colab.research.google.com/github/chakriga/Python_Assignment/blob/main/ps7.ipynb\" target=\"_parent\"><img src=\"https://colab.research.google.com/assets/colab-badge.svg\" alt=\"Open In Colab\"/></a>"
      ]
    },
    {
      "cell_type": "code",
      "source": [
        "\n",
        "Open In Colab\n",
        "\n",
        "class Calculator:\n",
        "    def __init__(self,num1,num2):\n",
        "        self.num1 = num1\n",
        "        self.num2 = num2\n",
        "    def add(self):\n",
        "        return self.num1+self.num2\n",
        "\n",
        "    def subtract(self):\n",
        "        return self.num2 - self.num1\n",
        "\n",
        "    def multiply(self):\n",
        "        return self.num1*self.num2\n",
        "\n",
        "    def divide(self):\n",
        "        return self.num2/self.num1\n",
        "\n",
        "\n",
        "obj = Calculator(10, 94);\n",
        "print(obj.add())\n",
        "print(obj.subtract())\n",
        "print(obj.multiply())\n",
        "print(obj.divide())\n",
        "\n",
        "104\n",
        "84\n",
        "940\n",
        "9.4"
      ],
      "metadata": {
        "colab": {
          "base_uri": "https://localhost:8080/",
          "height": 141
        },
        "id": "tQs6Qs88xtUm",
        "outputId": "24f37658-c2cb-4588-a5c4-6150a57ad1b7"
      },
      "execution_count": 25,
      "outputs": [
        {
          "output_type": "error",
          "ename": "SyntaxError",
          "evalue": "ignored",
          "traceback": [
            "\u001b[0;36m  File \u001b[0;32m\"<ipython-input-25-abead18eaef7>\"\u001b[0;36m, line \u001b[0;32m1\u001b[0m\n\u001b[0;31m    Open In Colab\u001b[0m\n\u001b[0m         ^\u001b[0m\n\u001b[0;31mSyntaxError\u001b[0m\u001b[0;31m:\u001b[0m invalid syntax\n"
          ]
        }
      ]
    }
  ]
}