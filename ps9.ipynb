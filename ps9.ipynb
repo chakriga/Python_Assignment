{
  "nbformat": 4,
  "nbformat_minor": 0,
  "metadata": {
    "colab": {
      "provenance": [],
      "authorship_tag": "ABX9TyO8yROyvdE79Af2GRdarQ1z",
      "include_colab_link": true
    },
    "kernelspec": {
      "name": "python3",
      "display_name": "Python 3"
    },
    "language_info": {
      "name": "python"
    }
  },
  "cells": [
    {
      "cell_type": "markdown",
      "metadata": {
        "id": "view-in-github",
        "colab_type": "text"
      },
      "source": [
        "<a href=\"https://colab.research.google.com/github/chakriga/Python_Assignment/blob/main/ps9.ipynb\" target=\"_parent\"><img src=\"https://colab.research.google.com/assets/colab-badge.svg\" alt=\"Open In Colab\"/></a>"
      ]
    },
    {
      "cell_type": "code",
      "source": [
        "class Account:\n",
        "    def __init__(self, title, balance):\n",
        "        self.title = title\n",
        "        self.balance = balance\n",
        "\n",
        "class SavingsAccount(Account):\n",
        "    def __init__(self, title, balance, interestRate):\n",
        "        super().__init__(title, balance)\n",
        "        self.interestRate = interestRate\n",
        "\n",
        "account = Account(\"Ashish\", 500)\n",
        "savingsAccount = SavingsAccount(\"Ashish\", 5000, 5)\n",
        "print(account.title)\n",
        "print(account.balance)\n",
        "print(savingsAccount.interestRate)\n",
        ""
      ],
      "metadata": {
        "colab": {
          "base_uri": "https://localhost:8080/"
        },
        "id": "tQs6Qs88xtUm",
        "outputId": "4956ff21-1647-49a7-da51-b8238ba25ee0"
      },
      "execution_count": 36,
      "outputs": [
        {
          "output_type": "stream",
          "name": "stdout",
          "text": [
            "Ashish\n",
            "500\n",
            "5\n"
          ]
        }
      ]
    }
  ]
}