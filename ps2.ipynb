{
  "nbformat": 4,
  "nbformat_minor": 0,
  "metadata": {
    "colab": {
      "provenance": [],
      "authorship_tag": "ABX9TyOkTHuXqLgNDLIxVb76IsHJ",
      "include_colab_link": true
    },
    "kernelspec": {
      "name": "python3",
      "display_name": "Python 3"
    },
    "language_info": {
      "name": "python"
    }
  },
  "cells": [
    {
      "cell_type": "markdown",
      "metadata": {
        "id": "view-in-github",
        "colab_type": "text"
      },
      "source": [
        "<a href=\"https://colab.research.google.com/github/chakriga/Python_Assignment/blob/main/ps2.ipynb\" target=\"_parent\"><img src=\"https://colab.research.google.com/assets/colab-badge.svg\" alt=\"Open In Colab\"/></a>"
      ]
    },
    {
      "cell_type": "code",
      "source": [
        "calls = int(input(\"Enter number of calls: \"))\n",
        "def bills(calls):\n",
        "  if calls <= 100:\n",
        "      bill = 200\n",
        "  elif calls > 100 and calls <= 150:\n",
        "      calls = calls - 100\n",
        "      bill = 200 + (0.60 * calls)\n",
        "  elif calls > 150 and calls <= 200:\n",
        "      calls = calls - 150\n",
        "      bill = 200 + (0.60 * 50) + (0.50 * calls)\n",
        "  else:\n",
        "      calls = calls - 200\n",
        "      bill = 200 + (0.60 * 50) + (0.50 * 50) + (0.40 * calls)\n",
        "  return bill\n",
        "print(\"Total bill amount is\", bills(calls))\n"
      ],
      "metadata": {
        "colab": {
          "base_uri": "https://localhost:8080/"
        },
        "id": "tQs6Qs88xtUm",
        "outputId": "58c20133-b897-469a-b6a1-dd7eec28674b"
      },
      "execution_count": 5,
      "outputs": [
        {
          "output_type": "stream",
          "name": "stdout",
          "text": [
            "Enter number of calls: 100\n",
            "Total bill amount is 200\n"
          ]
        }
      ]
    }
  ]
}