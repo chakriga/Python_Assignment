{
  "nbformat": 4,
  "nbformat_minor": 0,
  "metadata": {
    "colab": {
      "provenance": [],
      "authorship_tag": "ABX9TyMXAonj5vEMxThLzZCIaxzK",
      "include_colab_link": true
    },
    "kernelspec": {
      "name": "python3",
      "display_name": "Python 3"
    },
    "language_info": {
      "name": "python"
    }
  },
  "cells": [
    {
      "cell_type": "markdown",
      "metadata": {
        "id": "view-in-github",
        "colab_type": "text"
      },
      "source": [
        "<a href=\"https://colab.research.google.com/github/chakriga/Python_Assignment/blob/main/ps1.ipynb\" target=\"_parent\"><img src=\"https://colab.research.google.com/assets/colab-badge.svg\" alt=\"Open In Colab\"/></a>"
      ]
    },
    {
      "cell_type": "code",
      "source": [
        "def calculate_net_amount(trans_list):\n",
        "    net_amount = 0\n",
        "    for i in trans_list:\n",
        "        if(i[0] == 'D'):\n",
        "            net_amount = net_amount + int(i[2::])\n",
        "        elif(i[0] == 'W'):\n",
        "            net_amount = net_amount - int(i[2::])\n",
        "    return net_amount\n",
        "trans_list=[\"D:100\",\"W:200\",\"D:400\"]\n",
        "print(calculate_net_amount(trans_list))\n"
      ],
      "metadata": {
        "colab": {
          "base_uri": "https://localhost:8080/"
        },
        "id": "tQs6Qs88xtUm",
        "outputId": "561c9f73-1845-441f-aa79-989334ef3f29"
      },
      "execution_count": 2,
      "outputs": [
        {
          "output_type": "stream",
          "name": "stdout",
          "text": [
            "300\n"
          ]
        }
      ]
    }
  ]
}