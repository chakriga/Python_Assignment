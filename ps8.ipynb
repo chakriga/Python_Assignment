{
  "nbformat": 4,
  "nbformat_minor": 0,
  "metadata": {
    "colab": {
      "provenance": [],
      "authorship_tag": "ABX9TyORtc7vgRwmi3sZXwQ4mu5I",
      "include_colab_link": true
    },
    "kernelspec": {
      "name": "python3",
      "display_name": "Python 3"
    },
    "language_info": {
      "name": "python"
    }
  },
  "cells": [
    {
      "cell_type": "markdown",
      "metadata": {
        "id": "view-in-github",
        "colab_type": "text"
      },
      "source": [
        "<a href=\"https://colab.research.google.com/github/chakriga/Python_Assignment/blob/main/ps8.ipynb\" target=\"_parent\"><img src=\"https://colab.research.google.com/assets/colab-badge.svg\" alt=\"Open In Colab\"/></a>"
      ]
    },
    {
      "cell_type": "code",
      "source": [
        "\n",
        "class Student:\n",
        "    def __init__(self, name, rollnumber):\n",
        "        self.name = name\n",
        "        self.rollnumber = rollnumber\n",
        "    def get_name(self):\n",
        "        return self.name\n",
        "    def get_rollnumber(self):\n",
        "        return self.rollnumber\n",
        "    def set_name(self, name):\n",
        "        self.name = name\n",
        "    def set_rollnumber(self, rollnumber):\n",
        "        self.rollnumber = rollnumber\n",
        "\n",
        "# Create an instance of the Student class\n",
        "student1 = Student(\"Chakri\", 107)\n",
        "\n",
        "#Get the student's name,rollnumber\n",
        "print(\"Name:\", student1.get_name())\n",
        "print(\"RollNumber:\", student1.get_rollnumber())\n",
        "\n",
        "# Set new values for the student's name, rollnumber\n",
        "student1.set_name(\"Vijay\")\n",
        "student1.set_rollnumber(108)\n",
        "\n",
        "# Get the updated values\n",
        "print(\"Name:\", student1.get_name())\n",
        "print(\"RollNumber:\", student1.get_rollnumber())\n",
        "\n",
        ""
      ],
      "metadata": {
        "colab": {
          "base_uri": "https://localhost:8080/"
        },
        "id": "tQs6Qs88xtUm",
        "outputId": "fdd55603-f750-4c24-8199-c7923d5477d8"
      },
      "execution_count": 35,
      "outputs": [
        {
          "output_type": "stream",
          "name": "stdout",
          "text": [
            "Name: Chakri\n",
            "RollNumber: 107\n",
            "Name: Vijay\n",
            "RollNumber: 108\n"
          ]
        }
      ]
    }
  ]
}