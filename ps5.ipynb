{
  "nbformat": 4,
  "nbformat_minor": 0,
  "metadata": {
    "colab": {
      "provenance": [],
      "authorship_tag": "ABX9TyON7J63KMgblc0jHpaT22cV",
      "include_colab_link": true
    },
    "kernelspec": {
      "name": "python3",
      "display_name": "Python 3"
    },
    "language_info": {
      "name": "python"
    }
  },
  "cells": [
    {
      "cell_type": "markdown",
      "metadata": {
        "id": "view-in-github",
        "colab_type": "text"
      },
      "source": [
        "<a href=\"https://colab.research.google.com/github/chakriga/Python_Assignment/blob/main/ps5.ipynb\" target=\"_parent\"><img src=\"https://colab.research.google.com/assets/colab-badge.svg\" alt=\"Open In Colab\"/></a>"
      ]
    },
    {
      "cell_type": "code",
      "source": [
        "def str_case(s):\n",
        "    x={\"upr_cas\":0, \"lwr_cas\":0}\n",
        "    for c in s:\n",
        "        if c.isupper():\n",
        "           x[\"upr_cas\"]+=1\n",
        "        elif c.islower():\n",
        "           x[\"lwr_cas\"]+=1\n",
        "\n",
        "    print (\"Original String : \", s)\n",
        "    print (\"No. of Upper case characters : \", x[\"upr_cas\"])\n",
        "    print (\"No. of Lower case Characters : \", x[\"lwr_cas\"])\n",
        "\n",
        "str_case('Abcd 12Fghlk DTHkdfwark')\n"
      ],
      "metadata": {
        "colab": {
          "base_uri": "https://localhost:8080/"
        },
        "id": "tQs6Qs88xtUm",
        "outputId": "df232a11-bf0d-4efd-c275-81515306353d"
      },
      "execution_count": 22,
      "outputs": [
        {
          "output_type": "stream",
          "name": "stdout",
          "text": [
            "Original String :  Abcd 12Fghlk DTHkdfwark\n",
            "No. of Upper case characters :  5\n",
            "No. of Lower case Characters :  14\n"
          ]
        }
      ]
    }
  ]
}