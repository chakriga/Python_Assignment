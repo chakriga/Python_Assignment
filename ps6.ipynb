{
  "nbformat": 4,
  "nbformat_minor": 0,
  "metadata": {
    "colab": {
      "provenance": [],
      "authorship_tag": "ABX9TyPGMt12Bvp+X5SjKuiE6K99",
      "include_colab_link": true
    },
    "kernelspec": {
      "name": "python3",
      "display_name": "Python 3"
    },
    "language_info": {
      "name": "python"
    }
  },
  "cells": [
    {
      "cell_type": "markdown",
      "metadata": {
        "id": "view-in-github",
        "colab_type": "text"
      },
      "source": [
        "<a href=\"https://colab.research.google.com/github/chakriga/Python_Assignment/blob/main/ps6.ipynb\" target=\"_parent\"><img src=\"https://colab.research.google.com/assets/colab-badge.svg\" alt=\"Open In Colab\"/></a>"
      ]
    },
    {
      "cell_type": "code",
      "source": [
        "class point:\n",
        "    def __init__(self):\n",
        "        self.x = x\n",
        "        self.y = y\n",
        "        self.z = z\n",
        "\n",
        "    def sqsum(self):\n",
        "        return ((self.x **2), (self.y **2), (self.z **2))\n",
        "\n",
        "    def sum(self):\n",
        "        return ((self.x **2) + (self.y **2) + (self.z **2))\n",
        "\n",
        "x = int(input(\"Enter the first number:\"))\n",
        "y = int(input(\"Enter the second number :\"))\n",
        "z = int(input(\"Enter the third number:\"))\n",
        "\n",
        "a = point()\n",
        "\n",
        "print(\"sum of the square are :\",a.sum())\n",
        ""
      ],
      "metadata": {
        "colab": {
          "base_uri": "https://localhost:8080/"
        },
        "id": "tQs6Qs88xtUm",
        "outputId": "7f19fc90-cb48-4746-9174-035bb70cce1b"
      },
      "execution_count": 24,
      "outputs": [
        {
          "output_type": "stream",
          "name": "stdout",
          "text": [
            "Enter the first number:1\n",
            "Enter the second number :3\n",
            "Enter the third number:5\n",
            "sum of the square are : 35\n"
          ]
        }
      ]
    }
  ]
}